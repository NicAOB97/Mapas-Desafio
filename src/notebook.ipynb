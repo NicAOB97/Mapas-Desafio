{
 "cells": [
  {
   "cell_type": "markdown",
   "metadata": {},
   "source": [
    "Dealing with outliers"
   ]
  },
  {
   "cell_type": "code",
   "execution_count": null,
   "metadata": {},
   "outputs": [],
   "source": [
    "colegios[colegios['CENTRO'] == 'LA LAGUNA']['latitudes']\n",
    "\n",
    "# changing lat/long (manually search in google and replace)\n",
    "\n",
    "colegios.replace(37.7795941, 40.37408793380588, inplace=True)\n",
    "colegios.replace(-3.784905699999999, -3.5272361053978, inplace=True)"
   ]
  }
 ],
 "metadata": {
  "language_info": {
   "name": "python"
  },
  "orig_nbformat": 4
 },
 "nbformat": 4,
 "nbformat_minor": 2
}
